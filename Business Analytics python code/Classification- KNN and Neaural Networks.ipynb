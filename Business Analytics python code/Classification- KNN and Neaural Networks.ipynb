{
  "cells": [
    {
      "cell_type": "markdown",
      "id": "7bab451e-be87-4bd5-9cb7-686c10d33a16",
      "metadata": {
        "scrolled": true,
        "id": "7bab451e-be87-4bd5-9cb7-686c10d33a16"
      },
      "source": [
        "# Assignment 4：Supervised Learning\n",
        "### Handwritten Digits Clustering\n",
        "\n",
        "### Reference link: https://scikit-learn.org/stable/modules/generated/sklearn.datasets.load_digits.html"
      ]
    },
    {
      "cell_type": "code",
      "execution_count": 26,
      "id": "65533f16-49ee-4f48-b835-245d27961725",
      "metadata": {
        "scrolled": true,
        "colab": {
          "base_uri": "https://localhost:8080/"
        },
        "id": "65533f16-49ee-4f48-b835-245d27961725",
        "outputId": "17ea624e-152a-41b4-ff36-a633dd2a62be"
      },
      "outputs": [
        {
          "output_type": "execute_result",
          "data": {
            "text/plain": [
              "{'data': array([[ 0.,  0.,  5., ...,  0.,  0.,  0.],\n",
              "        [ 0.,  0.,  0., ..., 10.,  0.,  0.],\n",
              "        [ 0.,  0.,  0., ..., 16.,  9.,  0.],\n",
              "        ...,\n",
              "        [ 0.,  0.,  1., ...,  6.,  0.,  0.],\n",
              "        [ 0.,  0.,  2., ..., 12.,  0.,  0.],\n",
              "        [ 0.,  0., 10., ..., 12.,  1.,  0.]]),\n",
              " 'target': array([0, 1, 2, ..., 8, 9, 8]),\n",
              " 'frame': None,\n",
              " 'feature_names': ['pixel_0_0',\n",
              "  'pixel_0_1',\n",
              "  'pixel_0_2',\n",
              "  'pixel_0_3',\n",
              "  'pixel_0_4',\n",
              "  'pixel_0_5',\n",
              "  'pixel_0_6',\n",
              "  'pixel_0_7',\n",
              "  'pixel_1_0',\n",
              "  'pixel_1_1',\n",
              "  'pixel_1_2',\n",
              "  'pixel_1_3',\n",
              "  'pixel_1_4',\n",
              "  'pixel_1_5',\n",
              "  'pixel_1_6',\n",
              "  'pixel_1_7',\n",
              "  'pixel_2_0',\n",
              "  'pixel_2_1',\n",
              "  'pixel_2_2',\n",
              "  'pixel_2_3',\n",
              "  'pixel_2_4',\n",
              "  'pixel_2_5',\n",
              "  'pixel_2_6',\n",
              "  'pixel_2_7',\n",
              "  'pixel_3_0',\n",
              "  'pixel_3_1',\n",
              "  'pixel_3_2',\n",
              "  'pixel_3_3',\n",
              "  'pixel_3_4',\n",
              "  'pixel_3_5',\n",
              "  'pixel_3_6',\n",
              "  'pixel_3_7',\n",
              "  'pixel_4_0',\n",
              "  'pixel_4_1',\n",
              "  'pixel_4_2',\n",
              "  'pixel_4_3',\n",
              "  'pixel_4_4',\n",
              "  'pixel_4_5',\n",
              "  'pixel_4_6',\n",
              "  'pixel_4_7',\n",
              "  'pixel_5_0',\n",
              "  'pixel_5_1',\n",
              "  'pixel_5_2',\n",
              "  'pixel_5_3',\n",
              "  'pixel_5_4',\n",
              "  'pixel_5_5',\n",
              "  'pixel_5_6',\n",
              "  'pixel_5_7',\n",
              "  'pixel_6_0',\n",
              "  'pixel_6_1',\n",
              "  'pixel_6_2',\n",
              "  'pixel_6_3',\n",
              "  'pixel_6_4',\n",
              "  'pixel_6_5',\n",
              "  'pixel_6_6',\n",
              "  'pixel_6_7',\n",
              "  'pixel_7_0',\n",
              "  'pixel_7_1',\n",
              "  'pixel_7_2',\n",
              "  'pixel_7_3',\n",
              "  'pixel_7_4',\n",
              "  'pixel_7_5',\n",
              "  'pixel_7_6',\n",
              "  'pixel_7_7'],\n",
              " 'target_names': array([0, 1, 2, 3, 4, 5, 6, 7, 8, 9]),\n",
              " 'images': array([[[ 0.,  0.,  5., ...,  1.,  0.,  0.],\n",
              "         [ 0.,  0., 13., ..., 15.,  5.,  0.],\n",
              "         [ 0.,  3., 15., ..., 11.,  8.,  0.],\n",
              "         ...,\n",
              "         [ 0.,  4., 11., ..., 12.,  7.,  0.],\n",
              "         [ 0.,  2., 14., ..., 12.,  0.,  0.],\n",
              "         [ 0.,  0.,  6., ...,  0.,  0.,  0.]],\n",
              " \n",
              "        [[ 0.,  0.,  0., ...,  5.,  0.,  0.],\n",
              "         [ 0.,  0.,  0., ...,  9.,  0.,  0.],\n",
              "         [ 0.,  0.,  3., ...,  6.,  0.,  0.],\n",
              "         ...,\n",
              "         [ 0.,  0.,  1., ...,  6.,  0.,  0.],\n",
              "         [ 0.,  0.,  1., ...,  6.,  0.,  0.],\n",
              "         [ 0.,  0.,  0., ..., 10.,  0.,  0.]],\n",
              " \n",
              "        [[ 0.,  0.,  0., ..., 12.,  0.,  0.],\n",
              "         [ 0.,  0.,  3., ..., 14.,  0.,  0.],\n",
              "         [ 0.,  0.,  8., ..., 16.,  0.,  0.],\n",
              "         ...,\n",
              "         [ 0.,  9., 16., ...,  0.,  0.,  0.],\n",
              "         [ 0.,  3., 13., ..., 11.,  5.,  0.],\n",
              "         [ 0.,  0.,  0., ..., 16.,  9.,  0.]],\n",
              " \n",
              "        ...,\n",
              " \n",
              "        [[ 0.,  0.,  1., ...,  1.,  0.,  0.],\n",
              "         [ 0.,  0., 13., ...,  2.,  1.,  0.],\n",
              "         [ 0.,  0., 16., ..., 16.,  5.,  0.],\n",
              "         ...,\n",
              "         [ 0.,  0., 16., ..., 15.,  0.,  0.],\n",
              "         [ 0.,  0., 15., ..., 16.,  0.,  0.],\n",
              "         [ 0.,  0.,  2., ...,  6.,  0.,  0.]],\n",
              " \n",
              "        [[ 0.,  0.,  2., ...,  0.,  0.,  0.],\n",
              "         [ 0.,  0., 14., ..., 15.,  1.,  0.],\n",
              "         [ 0.,  4., 16., ..., 16.,  7.,  0.],\n",
              "         ...,\n",
              "         [ 0.,  0.,  0., ..., 16.,  2.,  0.],\n",
              "         [ 0.,  0.,  4., ..., 16.,  2.,  0.],\n",
              "         [ 0.,  0.,  5., ..., 12.,  0.,  0.]],\n",
              " \n",
              "        [[ 0.,  0., 10., ...,  1.,  0.,  0.],\n",
              "         [ 0.,  2., 16., ...,  1.,  0.,  0.],\n",
              "         [ 0.,  0., 15., ..., 15.,  0.,  0.],\n",
              "         ...,\n",
              "         [ 0.,  4., 16., ..., 16.,  6.,  0.],\n",
              "         [ 0.,  8., 16., ..., 16.,  8.,  0.],\n",
              "         [ 0.,  1.,  8., ..., 12.,  1.,  0.]]]),\n",
              " 'DESCR': \".. _digits_dataset:\\n\\nOptical recognition of handwritten digits dataset\\n--------------------------------------------------\\n\\n**Data Set Characteristics:**\\n\\n:Number of Instances: 1797\\n:Number of Attributes: 64\\n:Attribute Information: 8x8 image of integer pixels in the range 0..16.\\n:Missing Attribute Values: None\\n:Creator: E. Alpaydin (alpaydin '@' boun.edu.tr)\\n:Date: July; 1998\\n\\nThis is a copy of the test set of the UCI ML hand-written digits datasets\\nhttps://archive.ics.uci.edu/ml/datasets/Optical+Recognition+of+Handwritten+Digits\\n\\nThe data set contains images of hand-written digits: 10 classes where\\neach class refers to a digit.\\n\\nPreprocessing programs made available by NIST were used to extract\\nnormalized bitmaps of handwritten digits from a preprinted form. From a\\ntotal of 43 people, 30 contributed to the training set and different 13\\nto the test set. 32x32 bitmaps are divided into nonoverlapping blocks of\\n4x4 and the number of on pixels are counted in each block. This generates\\nan input matrix of 8x8 where each element is an integer in the range\\n0..16. This reduces dimensionality and gives invariance to small\\ndistortions.\\n\\nFor info on NIST preprocessing routines, see M. D. Garris, J. L. Blue, G.\\nT. Candela, D. L. Dimmick, J. Geist, P. J. Grother, S. A. Janet, and C.\\nL. Wilson, NIST Form-Based Handprint Recognition System, NISTIR 5469,\\n1994.\\n\\n.. dropdown:: References\\n\\n  - C. Kaynak (1995) Methods of Combining Multiple Classifiers and Their\\n    Applications to Handwritten Digit Recognition, MSc Thesis, Institute of\\n    Graduate Studies in Science and Engineering, Bogazici University.\\n  - E. Alpaydin, C. Kaynak (1998) Cascading Classifiers, Kybernetika.\\n  - Ken Tang and Ponnuthurai N. Suganthan and Xi Yao and A. Kai Qin.\\n    Linear dimensionalityreduction using relevance weighted LDA. School of\\n    Electrical and Electronic Engineering Nanyang Technological University.\\n    2005.\\n  - Claudio Gentile. A New Approximate Maximal Margin Classification\\n    Algorithm. NIPS. 2000.\\n\"}"
            ]
          },
          "metadata": {},
          "execution_count": 26
        }
      ],
      "source": [
        "### Load dataset into Python\n",
        "from sklearn.datasets import load_digits\n",
        "# loading data\n",
        "digits = load_digits()\n",
        "# showing data\n",
        "digits\n",
        "# The results below is a Python dictionary which contains all information for this dataset.\n",
        "# You don't need all of them for this assignment.\n",
        "# Please see cells below."
      ]
    },
    {
      "cell_type": "code",
      "execution_count": 27,
      "id": "393ff6b0-42fe-496d-89ef-dc9f7bb53e11",
      "metadata": {
        "colab": {
          "base_uri": "https://localhost:8080/"
        },
        "id": "393ff6b0-42fe-496d-89ef-dc9f7bb53e11",
        "outputId": "04e16fe1-fa97-4174-c25e-406354c9c1db"
      },
      "outputs": [
        {
          "output_type": "execute_result",
          "data": {
            "text/plain": [
              "(array([[ 0.,  0.,  5., ...,  0.,  0.,  0.],\n",
              "        [ 0.,  0.,  0., ..., 10.,  0.,  0.],\n",
              "        [ 0.,  0.,  0., ..., 16.,  9.,  0.],\n",
              "        ...,\n",
              "        [ 0.,  0.,  1., ...,  6.,  0.,  0.],\n",
              "        [ 0.,  0.,  2., ..., 12.,  0.,  0.],\n",
              "        [ 0.,  0., 10., ..., 12.,  1.,  0.]]),\n",
              " (1797, 64))"
            ]
          },
          "metadata": {},
          "execution_count": 27
        }
      ],
      "source": [
        "### This is the data you need for building and training your clustering models.\n",
        "\n",
        "digits['data'], digits['data'].shape"
      ]
    },
    {
      "cell_type": "code",
      "execution_count": 28,
      "id": "81d23a41-fc24-4889-b51d-b9f608127906",
      "metadata": {
        "colab": {
          "base_uri": "https://localhost:8080/"
        },
        "id": "81d23a41-fc24-4889-b51d-b9f608127906",
        "outputId": "4cf59f73-ae32-447f-988b-b92926c5dc9e"
      },
      "outputs": [
        {
          "output_type": "execute_result",
          "data": {
            "text/plain": [
              "(array([0, 1, 2, ..., 8, 9, 8]), (1797,))"
            ]
          },
          "metadata": {},
          "execution_count": 28
        }
      ],
      "source": [
        "# This is the true labels for all samples.\n",
        "# You don't need this for building and training your model\n",
        "# But you can use this to evaluate your clustering results. Recommended but not required.\n",
        "digits['target'], digits['target'].shape\n",
        "\n",
        "# k = range(1 , 1798)\n",
        "# k is 1 - 1797\n",
        "# Some problems may already have some properties and those properties may help you to select a fixed K, custermer age group, security check(normal or abnormal)\n",
        "#"
      ]
    },
    {
      "cell_type": "code",
      "execution_count": 29,
      "id": "84b0ca97-da13-4409-a090-412661debf6b",
      "metadata": {
        "colab": {
          "base_uri": "https://localhost:8080/",
          "height": 454
        },
        "id": "84b0ca97-da13-4409-a090-412661debf6b",
        "outputId": "7042ebc3-449d-421f-9113-2d06afde6dd3"
      },
      "outputs": [
        {
          "output_type": "display_data",
          "data": {
            "text/plain": [
              "<Figure size 640x480 with 0 Axes>"
            ]
          },
          "metadata": {}
        },
        {
          "output_type": "display_data",
          "data": {
            "text/plain": [
              "<Figure size 480x480 with 1 Axes>"
            ],
            "image/png": "[encoded data removed]"
          },
          "metadata": {}
        }
      ],
      "source": [
        "### An example of the handwritten digits in the dataset.\n",
        "import matplotlib.pyplot as plt\n",
        "plt.gray()\n",
        "plt.matshow(digits.images[0])\n",
        "\n",
        "plt.show()"
      ]
    },
    {
      "cell_type": "markdown",
      "id": "7eedf0ca-4154-4a46-a12d-316e7d24557b",
      "metadata": {
        "id": "7eedf0ca-4154-4a46-a12d-316e7d24557b"
      },
      "source": [
        "### K Nearest Neighbors Classification\n",
        "\n",
        "##### Add your KNN model in the cells below."
      ]
    },
    {
      "cell_type": "markdown",
      "source": [
        "I would select k=3\n",
        "Distance Measures: Euclidean distance and Manhhatan distance"
      ],
      "metadata": {
        "id": "uGQtnWs-Q6VK"
      },
      "id": "uGQtnWs-Q6VK"
    },
    {
      "cell_type": "code",
      "execution_count": 30,
      "id": "28e82868-3187-4b5f-b513-41af1eec822e",
      "metadata": {
        "id": "28e82868-3187-4b5f-b513-41af1eec822e"
      },
      "outputs": [],
      "source": [
        "from sklearn.model_selection import train_test_split\n",
        "from sklearn.neighbors import KNeighborsClassifier\n",
        "from sklearn.metrics import accuracy_score\n",
        "\n",
        "X = digits['data']\n",
        "y = digits['target']\n",
        "\n",
        "# Train/test split\n",
        "X_train, X_test, y_train, y_test = train_test_split(X, y, test_size=0.2, random_state=42)"
      ]
    },
    {
      "cell_type": "code",
      "execution_count": 31,
      "id": "4a8d9511-f746-46f7-b110-fdf57ced028d",
      "metadata": {
        "colab": {
          "base_uri": "https://localhost:8080/"
        },
        "id": "4a8d9511-f746-46f7-b110-fdf57ced028d",
        "outputId": "e8101cfe-0725-4c3d-fbd5-feb917ad0e4f"
      },
      "outputs": [
        {
          "output_type": "stream",
          "name": "stdout",
          "text": [
            "Accuracy (Euclidean): 0.9833333333333333\n"
          ]
        }
      ],
      "source": [
        "# KNN with Euclidean distance\n",
        "knn_euclidean = KNeighborsClassifier(n_neighbors=3, metric='euclidean')\n",
        "knn_euclidean.fit(X_train, y_train)\n",
        "\n",
        "# Predicting kNN\n",
        "y_pred_euclidean = knn_euclidean.predict(X_test)\n",
        "\n",
        "# Evaluating Accuracy of Model\n",
        "accuracy_euclidean = accuracy_score(y_test, y_pred_euclidean)\n",
        "print(\"Accuracy (Euclidean):\", accuracy_euclidean)\n"
      ]
    },
    {
      "cell_type": "code",
      "execution_count": 32,
      "id": "aaceb1f5-8c77-42e5-b17b-28fafa239361",
      "metadata": {
        "colab": {
          "base_uri": "https://localhost:8080/"
        },
        "id": "aaceb1f5-8c77-42e5-b17b-28fafa239361",
        "outputId": "24718d31-8960-4405-e811-5530f26a848f"
      },
      "outputs": [
        {
          "output_type": "stream",
          "name": "stdout",
          "text": [
            "Accuracy (Manhattan): 0.9777777777777777\n"
          ]
        }
      ],
      "source": [
        "# KNN with Manhattan distance\n",
        "knn_manhattan = KNeighborsClassifier(n_neighbors=3, metric='manhattan')\n",
        "knn_manhattan.fit(X_train, y_train)\n",
        "\n",
        "# Predicting kNN\n",
        "y_pred_manhattan = knn_manhattan.predict(X_test)\n",
        "\n",
        "# Evaluating Accuracy of Model\n",
        "accuracy_manhattan = accuracy_score(y_test, y_pred_manhattan)\n",
        "print(\"Accuracy (Manhattan):\", accuracy_manhattan)\n"
      ]
    },
    {
      "cell_type": "markdown",
      "source": [
        "As per results:\n",
        "\n",
        "*   Accuracy (Euclidean): 0.983\n",
        "*   Accuracy (Manhattan): 0.977\n",
        "\n",
        "It shows very good performance from both the models.The model with Euclidean distance has better accuracy when compared to Manhattan. The kNN model is very well suited for digit classification problem\n",
        "\n"
      ],
      "metadata": {
        "id": "2c7qtsU7bZ6i"
      },
      "id": "2c7qtsU7bZ6i"
    },
    {
      "cell_type": "markdown",
      "source": [
        "Euclidean distance takes into account diagonal relationships between pixels where as Manhattan distance only considers straight horizontal/vertical steps. The accuracy can change when k is changed."
      ],
      "metadata": {
        "id": "3sJNtkO1czRl"
      },
      "id": "3sJNtkO1czRl"
    },
    {
      "cell_type": "markdown",
      "id": "b268af33-1ec3-48e0-be4e-78f862f6c59d",
      "metadata": {
        "id": "b268af33-1ec3-48e0-be4e-78f862f6c59d"
      },
      "source": [
        "### Neural Network Classification\n",
        "\n",
        "##### Add your NN model in the cells below."
      ]
    },
    {
      "cell_type": "markdown",
      "source": [
        "For the Neural network classification, I will use:\n",
        "\n",
        "*   Input Layer: 64\n",
        "*   Hidden layer: 40\n",
        "*   Output Layer: 10\n",
        "\n"
      ],
      "metadata": {
        "id": "5Sv5plADimlg"
      },
      "id": "5Sv5plADimlg"
    },
    {
      "cell_type": "code",
      "execution_count": 33,
      "id": "4d821f38-33bd-42d7-b8fb-be42cfb54a2c",
      "metadata": {
        "id": "4d821f38-33bd-42d7-b8fb-be42cfb54a2c"
      },
      "outputs": [],
      "source": [
        "from sklearn.model_selection import train_test_split\n",
        "from sklearn.neural_network import MLPClassifier\n",
        "from sklearn.metrics import accuracy_score\n",
        "\n",
        "X = digits.data\n",
        "y = digits.target\n",
        "\n",
        "# Train/test split\n",
        "X_train, X_test, y_train, y_test = train_test_split(X, y, test_size=0.2, random_state=None)\n"
      ]
    },
    {
      "cell_type": "code",
      "execution_count": 34,
      "id": "4f3ed876-6631-4006-a47c-cc5caa570190",
      "metadata": {
        "colab": {
          "base_uri": "https://localhost:8080/"
        },
        "id": "4f3ed876-6631-4006-a47c-cc5caa570190",
        "outputId": "76653e7e-c8f6-4cf8-aebc-9d76a88b9fe3"
      },
      "outputs": [
        {
          "output_type": "stream",
          "name": "stdout",
          "text": [
            "\n",
            "--- Run 1 ---\n",
            "Accuracy (Hidden layer=40): 0.9694\n",
            "\n",
            "--- Run 2 ---\n",
            "Accuracy (Hidden layer=40): 0.9806\n"
          ]
        }
      ],
      "source": [
        "# Running the model twice to check random behavior\n",
        "for run in range(1, 3):\n",
        "    print(f\"\\n--- Run {run} ---\")\n",
        "    nn_model = MLPClassifier(hidden_layer_sizes=(40,), activation='relu', max_iter=300, random_state=None)\n",
        "    nn_model.fit(X_train, y_train)\n",
        "\n",
        "    # Predicting and evaluating\n",
        "    y_pred = nn_model.predict(X_test)\n",
        "    acc = accuracy_score(y_test, y_pred)\n",
        "    print(f\"Accuracy (Hidden layer=40): {acc:.4f}\")"
      ]
    },
    {
      "cell_type": "markdown",
      "source": [
        "Accuracy of Neural Network Classification:\n",
        "\n",
        "\n",
        "*   Run 1: 0.9694\n",
        "*   Run 2: 0.9806\n",
        "\n",
        "\n"
      ],
      "metadata": {
        "id": "hcYt7lze3nt4"
      },
      "id": "hcYt7lze3nt4"
    },
    {
      "cell_type": "markdown",
      "source": [
        "The accuracy of kNN is better than Neural network classification"
      ],
      "metadata": {
        "id": "J2zYkNQG4F4O"
      },
      "id": "J2zYkNQG4F4O"
    },
    {
      "cell_type": "markdown",
      "source": [
        "There is high degree of randomness for different Neural Network classification runs. It has low reliability when compared to kNN."
      ],
      "metadata": {
        "id": "TowUl8Qh4qwA"
      },
      "id": "TowUl8Qh4qwA"
    }
  ],
  "metadata": {
    "kernelspec": {
      "display_name": "Python 3 (ipykernel)",
      "language": "python",
      "name": "python3"
    },
    "language_info": {
      "codemirror_mode": {
        "name": "ipython",
        "version": 3
      },
      "file_extension": ".py",
      "mimetype": "text/x-python",
      "name": "python",
      "nbconvert_exporter": "python",
      "pygments_lexer": "ipython3",
      "version": "3.11.7"
    },
    "colab": {
      "provenance": []
    }
  },
  "nbformat": 4,
  "nbformat_minor": 5
}