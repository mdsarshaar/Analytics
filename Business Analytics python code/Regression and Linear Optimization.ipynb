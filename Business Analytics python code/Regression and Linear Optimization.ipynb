{
  "nbformat": 4,
  "nbformat_minor": 0,
  "metadata": {
    "colab": {
      "provenance": []
    },
    "kernelspec": {
      "name": "python3",
      "display_name": "Python 3"
    },
    "language_info": {
      "name": "python"
    }
  },
  "cells": [
    {
      "cell_type": "markdown",
      "source": [
        "# Business Analytics\n",
        
        "# Mohammed Sarshaar"
      ],
      "metadata": {
        "id": "zJvL8L-tIaEI"
      }
    },
    {
      "cell_type": "markdown",
      "source": [
        "## **Question 1.**\n",
        "\n",
        "A company wants to test whether the average time taken to assemble a product has significantly decreased after implementing a new training program. Prior to the training, the average assembly time was 35 minutes with a known population standard deviation of 5 minutes. After the training, a random sample of 40 employees showed a mean assembly time of 33 minutes. Can you help the company to decide whether the new training program is necessary?"
      ],
      "metadata": {
        "id": "ZJEAb-i17KRQ"
      }
    },
    {
      "cell_type": "markdown",
      "source": [
        "**1.Initial Assumption of Population Distribution**\n",
        "\n",
        "We assume that the population distribution of assembly times follows a normal distribution.\n",
        "\n",
        "**2.Null and Alternative Hypotheses**\n",
        "\n",
        "Let μ be the population mean assembly time.\n",
        "\n",
        "\n",
        "*   Null Hypothesis (H₀): The new training program has no effect on the average assembly time.\n",
        "*   Alternative Hypothesis (H₁): The new training program has significantly decreased the average assembly time.\n",
        "\n",
        "**3.Test Statistic**\n",
        "\n"
      ],
      "metadata": {
        "id": "e-AtBwwN7yo6"
      }
    },
    {
      "cell_type": "code",
      "source": [
        "from scipy import stats\n",
        "\n",
        "# Given values\n",
        "sample_mean = 33\n",
        "population_mean = 35\n",
        "population_std = 5\n",
        "sample_size = 40\n",
        "\n",
        "# Calculating z-score\n",
        "z = (sample_mean - population_mean) / (population_std / (sample_size ** 0.5))\n",
        "z"
      ],
      "metadata": {
        "colab": {
          "base_uri": "https://localhost:8080/"
        },
        "id": "5NdWdkoa90Ph",
        "outputId": "93f38072-28b3-4f3a-d8a5-69dd84d195e3"
      },
      "execution_count": 1,
      "outputs": [
        {
          "output_type": "execute_result",
          "data": {
            "text/plain": [
              "-2.5298221281347035"
            ]
          },
          "metadata": {},
          "execution_count": 1
        }
      ]
    },
    {
      "cell_type": "markdown",
      "source": [
        "**4.Critical value and decision rule**\n"
      ],
      "metadata": {
        "id": "qtx3OYyb-olR"
      }
    },
    {
      "cell_type": "code",
      "source": [
        "from scipy.stats import norm\n",
        "\n",
        "alpha = 0.05\n",
        "z_critical = norm.ppf(alpha)\n",
        "z_critical"
      ],
      "metadata": {
        "colab": {
          "base_uri": "https://localhost:8080/"
        },
        "id": "YFHYbfDx_N4T",
        "outputId": "d5c6910e-cd8d-4b04-8555-51f365716915"
      },
      "execution_count": 2,
      "outputs": [
        {
          "output_type": "execute_result",
          "data": {
            "text/plain": [
              "np.float64(-1.6448536269514729)"
            ]
          },
          "metadata": {},
          "execution_count": 2
        }
      ]
    },
    {
      "cell_type": "markdown",
      "source": [
        "Decision Rule:\n",
        "\n",
        "\n",
        "\n",
        "*   If z< -1.644, Reject Null hypothesis\n",
        "*   If z>= -1.644, Accept Null hypothesis\n",
        "\n",
        "**5.p-value**\n",
        "\n"
      ],
      "metadata": {
        "id": "cU-WpJ1V_Snj"
      }
    },
    {
      "cell_type": "code",
      "source": [
        "from scipy.stats import norm\n",
        "\n",
        "p_value = norm.cdf(z)\n",
        "p_value"
      ],
      "metadata": {
        "colab": {
          "base_uri": "https://localhost:8080/"
        },
        "id": "h-ELE89T_7V3",
        "outputId": "6db472e0-4565-4968-829d-8931deab8551"
      },
      "execution_count": 3,
      "outputs": [
        {
          "output_type": "execute_result",
          "data": {
            "text/plain": [
              "np.float64(0.005706018193000826)"
            ]
          },
          "metadata": {},
          "execution_count": 3
        }
      ]
    },
    {
      "cell_type": "code",
      "source": [],
      "metadata": {
        "id": "B8xf2sDmHI5w"
      },
      "execution_count": null,
      "outputs": []
    },
    {
      "cell_type": "markdown",
      "source": [
        "**6.Conclusion:** From test of significance, we find\n",
        "\n",
        "\n",
        "\n",
        "*   p-value (0.0057) is less than alpha (0.05)\n",
        "*   z stat (-2.52) is less than z critical (-1.64)\n",
        "\n",
        "Therefore, we reject Null hypothesis and can conclude that the new training program has significantly decreased the average assembly time. The company should continue to use the new training program.\n",
        "\n"
      ],
      "metadata": {
        "id": "QW4RzPXJARH5"
      }
    },
    {
      "cell_type": "markdown",
      "source": [
        "## **Question 2.**\n",
        "\n",
        "A university administrator wants to test whether graduate students at the institution study, on average, more than 25 hours per week. To explore this, a random sample of 15 graduate students was surveyed, and the sample mean study time was found to be 27 hours per week, with a sample standard deviation of 4.5 hours."
      ],
      "metadata": {
        "id": "XmmVy4TtBYzu"
      }
    },
    {
      "cell_type": "markdown",
      "source": [
        "**1.Initial Assumption of Population Distribution**\n",
        "\n",
        "We assume that the population distribution of study times follows a normal distribution.\n",
        "\n",
        "**2.Null and Alternative Hypotheses**\n",
        "\n",
        "Let μ be the population mean study time.\n",
        "\n",
        "\n",
        "*   Null Hypothesis (H₀): The average study time of graduate students is 25 hours per week.\n",
        "*   Alternative Hypothesis (H₁): The average study time of graduate students is more than 25 hours per week.\n",
        "\n",
        "This is a right-tailed test since we are testing if the study time is greater than 25 hours.\n",
        "\n",
        "**3.Test Statistic**"
      ],
      "metadata": {
        "id": "b3oicoPcBtyB"
      }
    },
    {
      "cell_type": "code",
      "source": [
        "# Given values\n",
        "sample_mean = 27\n",
        "population_mean = 25\n",
        "sample_std = 4.5\n",
        "sample_size = 15\n",
        "\n",
        "# Calculate t-score\n",
        "t_stat = (sample_mean - population_mean) / (sample_std / (sample_size ** 0.5))\n",
        "t_stat"
      ],
      "metadata": {
        "colab": {
          "base_uri": "https://localhost:8080/"
        },
        "id": "R46TMF3PCZON",
        "outputId": "6ac77ae1-98ce-4194-8b83-25a1068b006a"
      },
      "execution_count": 13,
      "outputs": [
        {
          "output_type": "execute_result",
          "data": {
            "text/plain": [
              "1.7213259316477407"
            ]
          },
          "metadata": {},
          "execution_count": 13
        }
      ]
    },
    {
      "cell_type": "markdown",
      "source": [
        "**4.Critical value and decision rule**\n",
        "\n",
        "\n",
        "\n",
        "*   Significance level (𝛼) = 0.05\n",
        "*   Degrees of freedom = n−1=14\n"
      ],
      "metadata": {
        "id": "i-lgUvKGDh0M"
      }
    },
    {
      "cell_type": "code",
      "source": [
        "from scipy.stats import t\n",
        "\n",
        "alpha = 0.05\n",
        "df = 14\n",
        "t_critical = t.ppf(1 - alpha, df)\n",
        "t_critical"
      ],
      "metadata": {
        "colab": {
          "base_uri": "https://localhost:8080/"
        },
        "id": "shOM5-6mD-Wb",
        "outputId": "68ba75be-441b-47f1-c5b7-3bf2df06985b"
      },
      "execution_count": 6,
      "outputs": [
        {
          "output_type": "execute_result",
          "data": {
            "text/plain": [
              "np.float64(1.7613101357748562)"
            ]
          },
          "metadata": {},
          "execution_count": 6
        }
      ]
    },
    {
      "cell_type": "markdown",
      "source": [
        "Decision Rule:\n",
        "\n",
        "\n",
        "*   If t> 1.76 , Reject Null hypothesis\n",
        "*   If t<=1.76 , Accept Null hypothesis\n",
        "\n",
        "**5.p-value**"
      ],
      "metadata": {
        "id": "7ocAJX_rEQAC"
      }
    },
    {
      "cell_type": "code",
      "source": [
        "from scipy.stats import t\n",
        "\n",
        "p_value = t.sf(t_stat, df)\n",
        "p_value\n"
      ],
      "metadata": {
        "colab": {
          "base_uri": "https://localhost:8080/"
        },
        "id": "5ATkyhxaEctp",
        "outputId": "a25b6863-2b9c-4dd4-822e-6f5034a93a08"
      },
      "execution_count": 14,
      "outputs": [
        {
          "output_type": "execute_result",
          "data": {
            "text/plain": [
              "np.float64(0.05360191367469441)"
            ]
          },
          "metadata": {},
          "execution_count": 14
        }
      ]
    },
    {
      "cell_type": "markdown",
      "source": [
        "**6.Conclusion:** From test of significance, we find\n",
        "\n",
        "\n",
        "\n",
        "*   p-value (0.053) is greater than alpha (0.05)\n",
        "*   t stat (1.721) is less than t critical (1.76)\n",
        "\n",
        "Therefore, we accept alternate hypothesis and can conclude that graduate students study more than 25 hours per week."
      ],
      "metadata": {
        "id": "Ups6TEmLHNHY"
      }
    },
    {
      "cell_type": "markdown",
      "source": [
        "##Question 3\n",
        "\n",
        "A researcher is studying the relationship between hours of study and exam scores for graduate students. The above data was collected from a sample of 30 students.\n",
        "\n",
        "a.\tFit a simple linear regression model to the data, where the dependent variable (Y) is the exam score, and the independent variable (X) is the hours of study.\n",
        "\n",
        "b.\tWhat are the assumptions of simple linear regression, and do you think they hold for this dataset?\n",
        "\n",
        "c.\tHow would outliers in the data affect the regression model?\n",
        "\n",
        "d.\tIf you need to verify the model what will you need and what will you do?\n",
        "\n",
        "e.\tCan you verify your regression model?\n"
      ],
      "metadata": {
        "id": "G1SLv4o2KBkL"
      }
    },
    {
      "cell_type": "markdown",
      "source": [
        "**a. Fit a simple linear regression model**\n",
        "\n",
        "To fit a simple linear regression model, we need to form the equation:\n",
        "\n",
        "Y = b₀ + b₁X\n",
        "\n",
        "where\n",
        "\n",
        "\n",
        "*   Y = Exam Score\n",
        "*   X = Hours of Study\n",
        "\n",
        "\n",
        "*   b₀ = Y-intercept\n",
        "*   b₁ = Slope\n",
        "\n",
        "\n",
        "\n",
        "\n"
      ],
      "metadata": {
        "id": "DexjDqXdjncc"
      }
    },
    {
      "cell_type": "code",
      "source": [
        "import pandas as pd\n",
        "import statsmodels.api as sm\n",
        "import matplotlib.pyplot as plt\n",
        "import seaborn as sns\n",
        "import scipy.stats as stats\n",
        "\n",
        "# Inserting given values into dataframe\n",
        "data = {\n",
        "    'Hours_of_Study': [5, 5, 7, 3, 0, 5, 2, 7, 4, 2, 1, 6, 8, 5, 7, 8, 7, 8, 8, 8, 0, 8, 7, 4, 6, 7, 2, 0, 8, 4],\n",
        "    'Score': [52.1221, 52.1221, 72.1221, 32.1221, 2.122104, 52.1221, 22.1221, 72.1221, 42.1221, 22.1221, 12.1221, 62.1221, 82.1221, 52.1221, 72.1221, 82.1221, 72.1221, 82.1221, 82.1221, 82.1221, 2.122104, 82.1221, 72.1221, 42.1221, 62.1221, 72.1221, 22.1221, 2.122104, 82.1221, 42.1221]\n",
        "}\n",
        "\n",
        "df = pd.DataFrame(data)\n",
        "df"
      ],
      "metadata": {
        "colab": {
          "base_uri": "https://localhost:8080/",
          "height": 990
        },
        "id": "3vR4hvVek3q5",
        "outputId": "c625d0f4-b42a-4758-b14a-a484b228d9d7"
      },
      "execution_count": 23,
      "outputs": [
        {
          "output_type": "execute_result",
          "data": {
            "text/plain": [
              "    Hours_of_Study      Score\n",
              "0                5  52.122100\n",
              "1                5  52.122100\n",
              "2                7  72.122100\n",
              "3                3  32.122100\n",
              "4                0   2.122104\n",
              "5                5  52.122100\n",
              "6                2  22.122100\n",
              "7                7  72.122100\n",
              "8                4  42.122100\n",
              "9                2  22.122100\n",
              "10               1  12.122100\n",
              "11               6  62.122100\n",
              "12               8  82.122100\n",
              "13               5  52.122100\n",
              "14               7  72.122100\n",
              "15               8  82.122100\n",
              "16               7  72.122100\n",
              "17               8  82.122100\n",
              "18               8  82.122100\n",
              "19               8  82.122100\n",
              "20               0   2.122104\n",
              "21               8  82.122100\n",
              "22               7  72.122100\n",
              "23               4  42.122100\n",
              "24               6  62.122100\n",
              "25               7  72.122100\n",
              "26               2  22.122100\n",
              "27               0   2.122104\n",
              "28               8  82.122100\n",
              "29               4  42.122100"
            ],
            "text/html": [
              "\n",
              "  <div id=\"df-b9eb7dfe-45e9-45bf-8d21-0f2d6031b370\" class=\"colab-df-container\">\n",
              "    <div>\n",
              "<style scoped>\n",
              "    .dataframe tbody tr th:only-of-type {\n",
              "        vertical-align: middle;\n",
              "    }\n",
              "\n",
              "    .dataframe tbody tr th {\n",
              "        vertical-align: top;\n",
              "    }\n",
              "\n",
              "    .dataframe thead th {\n",
              "        text-align: right;\n",
              "    }\n",
              "</style>\n",
              "<table border=\"1\" class=\"dataframe\">\n",
              "  <thead>\n",
              "    <tr style=\"text-align: right;\">\n",
              "      <th></th>\n",
              "      <th>Hours_of_Study</th>\n",
              "      <th>Score</th>\n",
              "    </tr>\n",
              "  </thead>\n",
              "  <tbody>\n",
              "    <tr>\n",
              "      <th>0</th>\n",
              "      <td>5</td>\n",
              "      <td>52.122100</td>\n",
              "    </tr>\n",
              "    <tr>\n",
              "      <th>1</th>\n",
              "      <td>5</td>\n",
              "      <td>52.122100</td>\n",
              "    </tr>\n",
              "    <tr>\n",
              "      <th>2</th>\n",
              "      <td>7</td>\n",
              "      <td>72.122100</td>\n",
              "    </tr>\n",
              "    <tr>\n",
              "      <th>3</th>\n",
              "      <td>3</td>\n",
              "      <td>32.122100</td>\n",
              "    </tr>\n",
              "    <tr>\n",
              "      <th>4</th>\n",
              "      <td>0</td>\n",
              "      <td>2.122104</td>\n",
              "    </tr>\n",
              "    <tr>\n",
              "      <th>5</th>\n",
              "      <td>5</td>\n",
              "      <td>52.122100</td>\n",
              "    </tr>\n",
              "    <tr>\n",
              "      <th>6</th>\n",
              "      <td>2</td>\n",
              "      <td>22.122100</td>\n",
              "    </tr>\n",
              "    <tr>\n",
              "      <th>7</th>\n",
              "      <td>7</td>\n",
              "      <td>72.122100</td>\n",
              "    </tr>\n",
              "    <tr>\n",
              "      <th>8</th>\n",
              "      <td>4</td>\n",
              "      <td>42.122100</td>\n",
              "    </tr>\n",
              "    <tr>\n",
              "      <th>9</th>\n",
              "      <td>2</td>\n",
              "      <td>22.122100</td>\n",
              "    </tr>\n",
              "    <tr>\n",
              "      <th>10</th>\n",
              "      <td>1</td>\n",
              "      <td>12.122100</td>\n",
              "    </tr>\n",
              "    <tr>\n",
              "      <th>11</th>\n",
              "      <td>6</td>\n",
              "      <td>62.122100</td>\n",
              "    </tr>\n",
              "    <tr>\n",
              "      <th>12</th>\n",
              "      <td>8</td>\n",
              "      <td>82.122100</td>\n",
              "    </tr>\n",
              "    <tr>\n",
              "      <th>13</th>\n",
              "      <td>5</td>\n",
              "      <td>52.122100</td>\n",
              "    </tr>\n",
              "    <tr>\n",
              "      <th>14</th>\n",
              "      <td>7</td>\n",
              "      <td>72.122100</td>\n",
              "    </tr>\n",
              "    <tr>\n",
              "      <th>15</th>\n",
              "      <td>8</td>\n",
              "      <td>82.122100</td>\n",
              "    </tr>\n",
              "    <tr>\n",
              "      <th>16</th>\n",
              "      <td>7</td>\n",
              "      <td>72.122100</td>\n",
              "    </tr>\n",
              "    <tr>\n",
              "      <th>17</th>\n",
              "      <td>8</td>\n",
              "      <td>82.122100</td>\n",
              "    </tr>\n",
              "    <tr>\n",
              "      <th>18</th>\n",
              "      <td>8</td>\n",
              "      <td>82.122100</td>\n",
              "    </tr>\n",
              "    <tr>\n",
              "      <th>19</th>\n",
              "      <td>8</td>\n",
              "      <td>82.122100</td>\n",
              "    </tr>\n",
              "    <tr>\n",
              "      <th>20</th>\n",
              "      <td>0</td>\n",
              "      <td>2.122104</td>\n",
              "    </tr>\n",
              "    <tr>\n",
              "      <th>21</th>\n",
              "      <td>8</td>\n",
              "      <td>82.122100</td>\n",
              "    </tr>\n",
              "    <tr>\n",
              "      <th>22</th>\n",
              "      <td>7</td>\n",
              "      <td>72.122100</td>\n",
              "    </tr>\n",
              "    <tr>\n",
              "      <th>23</th>\n",
              "      <td>4</td>\n",
              "      <td>42.122100</td>\n",
              "    </tr>\n",
              "    <tr>\n",
              "      <th>24</th>\n",
              "      <td>6</td>\n",
              "      <td>62.122100</td>\n",
              "    </tr>\n",
              "    <tr>\n",
              "      <th>25</th>\n",
              "      <td>7</td>\n",
              "      <td>72.122100</td>\n",
              "    </tr>\n",
              "    <tr>\n",
              "      <th>26</th>\n",
              "      <td>2</td>\n",
              "      <td>22.122100</td>\n",
              "    </tr>\n",
              "    <tr>\n",
              "      <th>27</th>\n",
              "      <td>0</td>\n",
              "      <td>2.122104</td>\n",
              "    </tr>\n",
              "    <tr>\n",
              "      <th>28</th>\n",
              "      <td>8</td>\n",
              "      <td>82.122100</td>\n",
              "    </tr>\n",
              "    <tr>\n",
              "      <th>29</th>\n",
              "      <td>4</td>\n",
              "      <td>42.122100</td>\n",
              "    </tr>\n",
              "  </tbody>\n",
              "</table>\n",
              "</div>\n",
              "    <div class=\"colab-df-buttons\">\n",
              "\n",
              "  <div class=\"colab-df-container\">\n",
              "    <button class=\"colab-df-convert\" onclick=\"convertToInteractive('df-b9eb7dfe-45e9-45bf-8d21-0f2d6031b370')\"\n",
              "            title=\"Convert this dataframe to an interactive table.\"\n",
              "            style=\"display:none;\">\n",
              "\n",
              "  <svg xmlns=\"http://www.w3.org/2000/svg\" height=\"24px\" viewBox=\"0 -960 960 960\">\n",
              "    <path d=\"M120-120v-720h720v720H120Zm60-500h600v-160H180v160Zm220 220h160v-160H400v160Zm0 220h160v-160H400v160ZM180-400h160v-160H180v160Zm440 0h160v-160H620v160ZM180-180h160v-160H180v160Zm440 0h160v-160H620v160Z\"/>\n",
              "  </svg>\n",
              "    </button>\n",
              "\n",
              "  <style>\n",
              "    .colab-df-container {\n",
              "      display:flex;\n",
              "      gap: 12px;\n",
              "    }\n",
              "\n",
              "    .colab-df-convert {\n",
              "      background-color: #E8F0FE;\n",
              "      border: none;\n",
              "      border-radius: 50%;\n",
              "      cursor: pointer;\n",
              "      display: none;\n",
              "      fill: #1967D2;\n",
              "      height: 32px;\n",
              "      padding: 0 0 0 0;\n",
              "      width: 32px;\n",
              "    }\n",
              "\n",
              "    .colab-df-convert:hover {\n",
              "      background-color: #E2EBFA;\n",
              "      box-shadow: 0px 1px 2px rgba(60, 64, 67, 0.3), 0px 1px 3px 1px rgba(60, 64, 67, 0.15);\n",
              "      fill: #174EA6;\n",
              "    }\n",
              "\n",
              "    .colab-df-buttons div {\n",
              "      margin-bottom: 4px;\n",
              "    }\n",
              "\n",
              "    [theme=dark] .colab-df-convert {\n",
              "      background-color: #3B4455;\n",
              "      fill: #D2E3FC;\n",
              "    }\n",
              "\n",
              "    [theme=dark] .colab-df-convert:hover {\n",
              "      background-color: #434B5C;\n",
              "      box-shadow: 0px 1px 3px 1px rgba(0, 0, 0, 0.15);\n",
              "      filter: drop-shadow(0px 1px 2px rgba(0, 0, 0, 0.3));\n",
              "      fill: #FFFFFF;\n",
              "    }\n",
              "  </style>\n",
              "\n",
              "    <script>\n",
              "      const buttonEl =\n",
              "        document.querySelector('#df-b9eb7dfe-45e9-45bf-8d21-0f2d6031b370 button.colab-df-convert');\n",
              "      buttonEl.style.display =\n",
              "        google.colab.kernel.accessAllowed ? 'block' : 'none';\n",
              "\n",
              "      async function convertToInteractive(key) {\n",
              "        const element = document.querySelector('#df-b9eb7dfe-45e9-45bf-8d21-0f2d6031b370');\n",
              "        const dataTable =\n",
              "          await google.colab.kernel.invokeFunction('convertToInteractive',\n",
              "                                                    [key], {});\n",
              "        if (!dataTable) return;\n",
              "\n",
              "        const docLinkHtml = 'Like what you see? Visit the ' +\n",
              "          '<a target=\"_blank\" href=https://colab.research.google.com/notebooks/data_table.ipynb>data table notebook</a>'\n",
              "          + ' to learn more about interactive tables.';\n",
              "        element.innerHTML = '';\n",
              "        dataTable['output_type'] = 'display_data';\n",
              "        await google.colab.output.renderOutput(dataTable, element);\n",
              "        const docLink = document.createElement('div');\n",
              "        docLink.innerHTML = docLinkHtml;\n",
              "        element.appendChild(docLink);\n",
              "      }\n",
              "    </script>\n",
              "  </div>\n",
              "\n",
              "\n",
              "<div id=\"df-4f5dd590-b724-42ec-88e2-182f2c2e2877\">\n",
              "  <button class=\"colab-df-quickchart\" onclick=\"quickchart('df-4f5dd590-b724-42ec-88e2-182f2c2e2877')\"\n",
              "            title=\"Suggest charts\"\n",
              "            style=\"display:none;\">\n",
              "\n",
              "<svg xmlns=\"http://www.w3.org/2000/svg\" height=\"24px\"viewBox=\"0 0 24 24\"\n",
              "     width=\"24px\">\n",
              "    <g>\n",
              "        <path d=\"M19 3H5c-1.1 0-2 .9-2 2v14c0 1.1.9 2 2 2h14c1.1 0 2-.9 2-2V5c0-1.1-.9-2-2-2zM9 17H7v-7h2v7zm4 0h-2V7h2v10zm4 0h-2v-4h2v4z\"/>\n",
              "    </g>\n",
              "</svg>\n",
              "  </button>\n",
              "\n",
              "<style>\n",
              "  .colab-df-quickchart {\n",
              "      --bg-color: #E8F0FE;\n",
              "      --fill-color: #1967D2;\n",
              "      --hover-bg-color: #E2EBFA;\n",
              "      --hover-fill-color: #174EA6;\n",
              "      --disabled-fill-color: #AAA;\n",
              "      --disabled-bg-color: #DDD;\n",
              "  }\n",
              "\n",
              "  [theme=dark] .colab-df-quickchart {\n",
              "      --bg-color: #3B4455;\n",
              "      --fill-color: #D2E3FC;\n",
              "      --hover-bg-color: #434B5C;\n",
              "      --hover-fill-color: #FFFFFF;\n",
              "      --disabled-bg-color: #3B4455;\n",
              "      --disabled-fill-color: #666;\n",
              "  }\n",
              "\n",
              "  .colab-df-quickchart {\n",
              "    background-color: var(--bg-color);\n",
              "    border: none;\n",
              "    border-radius: 50%;\n",
              "    cursor: pointer;\n",
              "    display: none;\n",
              "    fill: var(--fill-color);\n",
              "    height: 32px;\n",
              "    padding: 0;\n",
              "    width: 32px;\n",
              "  }\n",
              "\n",
              "  .colab-df-quickchart:hover {\n",
              "    background-color: var(--hover-bg-color);\n",
              "    box-shadow: 0 1px 2px rgba(60, 64, 67, 0.3), 0 1px 3px 1px rgba(60, 64, 67, 0.15);\n",
              "    fill: var(--button-hover-fill-color);\n",
              "  }\n",
              "\n",
              "  .colab-df-quickchart-complete:disabled,\n",
              "  .colab-df-quickchart-complete:disabled:hover {\n",
              "    background-color: var(--disabled-bg-color);\n",
              "    fill: var(--disabled-fill-color);\n",
              "    box-shadow: none;\n",
              "  }\n",
              "\n",
              "  .colab-df-spinner {\n",
              "    border: 2px solid var(--fill-color);\n",
              "    border-color: transparent;\n",
              "    border-bottom-color: var(--fill-color);\n",
              "    animation:\n",
              "      spin 1s steps(1) infinite;\n",
              "  }\n",
              "\n",
              "  @keyframes spin {\n",
              "    0% {\n",
              "      border-color: transparent;\n",
              "      border-bottom-color: var(--fill-color);\n",
              "      border-left-color: var(--fill-color);\n",
              "    }\n",
              "    20% {\n",
              "      border-color: transparent;\n",
              "      border-left-color: var(--fill-color);\n",
              "      border-top-color: var(--fill-color);\n",
              "    }\n",
              "    30% {\n",
              "      border-color: transparent;\n",
              "      border-left-color: var(--fill-color);\n",
              "      border-top-color: var(--fill-color);\n",
              "      border-right-color: var(--fill-color);\n",
              "    }\n",
              "    40% {\n",
              "      border-color: transparent;\n",
              "      border-right-color: var(--fill-color);\n",
              "      border-top-color: var(--fill-color);\n",
              "    }\n",
              "    60% {\n",
              "      border-color: transparent;\n",
              "      border-right-color: var(--fill-color);\n",
              "    }\n",
              "    80% {\n",
              "      border-color: transparent;\n",
              "      border-right-color: var(--fill-color);\n",
              "      border-bottom-color: var(--fill-color);\n",
              "    }\n",
              "    90% {\n",
              "      border-color: transparent;\n",
              "      border-bottom-color: var(--fill-color);\n",
              "    }\n",
              "  }\n",
              "</style>\n",
              "\n",
              "  <script>\n",
              "    async function quickchart(key) {\n",
              "      const quickchartButtonEl =\n",
              "        document.querySelector('#' + key + ' button');\n",
              "      quickchartButtonEl.disabled = true;  // To prevent multiple clicks.\n",
              "      quickchartButtonEl.classList.add('colab-df-spinner');\n",
              "      try {\n",
              "        const charts = await google.colab.kernel.invokeFunction(\n",
              "            'suggestCharts', [key], {});\n",
              "      } catch (error) {\n",
              "        console.error('Error during call to suggestCharts:', error);\n",
              "      }\n",
              "      quickchartButtonEl.classList.remove('colab-df-spinner');\n",
              "      quickchartButtonEl.classList.add('colab-df-quickchart-complete');\n",
              "    }\n",
              "    (() => {\n",
              "      let quickchartButtonEl =\n",
              "        document.querySelector('#df-4f5dd590-b724-42ec-88e2-182f2c2e2877 button');\n",
              "      quickchartButtonEl.style.display =\n",
              "        google.colab.kernel.accessAllowed ? 'block' : 'none';\n",
              "    })();\n",
              "  </script>\n",
              "</div>\n",
              "\n",
              "  <div id=\"id_08003db7-98fb-467c-a6e4-dd7efff3330c\">\n",
              "    <style>\n",
              "      .colab-df-generate {\n",
              "        background-color: #E8F0FE;\n",
              "        border: none;\n",
              "        border-radius: 50%;\n",
              "        cursor: pointer;\n",
              "        display: none;\n",
              "        fill: #1967D2;\n",
              "        height: 32px;\n",
              "        padding: 0 0 0 0;\n",
              "        width: 32px;\n",
              "      }\n",
              "\n",
              "      .colab-df-generate:hover {\n",
              "        background-color: #E2EBFA;\n",
              "        box-shadow: 0px 1px 2px rgba(60, 64, 67, 0.3), 0px 1px 3px 1px rgba(60, 64, 67, 0.15);\n",
              "        fill: #174EA6;\n",
              "      }\n",
              "\n",
              "      [theme=dark] .colab-df-generate {\n",
              "        background-color: #3B4455;\n",
              "        fill: #D2E3FC;\n",
              "      }\n",
              "\n",
              "      [theme=dark] .colab-df-generate:hover {\n",
              "        background-color: #434B5C;\n",
              "        box-shadow: 0px 1px 3px 1px rgba(0, 0, 0, 0.15);\n",
              "        filter: drop-shadow(0px 1px 2px rgba(0, 0, 0, 0.3));\n",
              "        fill: #FFFFFF;\n",
              "      }\n",
              "    </style>\n",
              "    <button class=\"colab-df-generate\" onclick=\"generateWithVariable('df')\"\n",
              "            title=\"Generate code using this dataframe.\"\n",
              "            style=\"display:none;\">\n",
              "\n",
              "  <svg xmlns=\"http://www.w3.org/2000/svg\" height=\"24px\"viewBox=\"0 0 24 24\"\n",
              "       width=\"24px\">\n",
              "    <path d=\"M7,19H8.4L18.45,9,17,7.55,7,17.6ZM5,21V16.75L18.45,3.32a2,2,0,0,1,2.83,0l1.4,1.43a1.91,1.91,0,0,1,.58,1.4,1.91,1.91,0,0,1-.58,1.4L9.25,21ZM18.45,9,17,7.55Zm-12,3A5.31,5.31,0,0,0,4.9,8.1,5.31,5.31,0,0,0,1,6.5,5.31,5.31,0,0,0,4.9,4.9,5.31,5.31,0,0,0,6.5,1,5.31,5.31,0,0,0,8.1,4.9,5.31,5.31,0,0,0,12,6.5,5.46,5.46,0,0,0,6.5,12Z\"/>\n",
              "  </svg>\n",
              "    </button>\n",
              "    <script>\n",
              "      (() => {\n",
              "      const buttonEl =\n",
              "        document.querySelector('#id_08003db7-98fb-467c-a6e4-dd7efff3330c button.colab-df-generate');\n",
              "      buttonEl.style.display =\n",
              "        google.colab.kernel.accessAllowed ? 'block' : 'none';\n",
              "\n",
              "      buttonEl.onclick = () => {\n",
              "        google.colab.notebook.generateWithVariable('df');\n",
              "      }\n",
              "      })();\n",
              "    </script>\n",
              "  </div>\n",
              "\n",
              "    </div>\n",
              "  </div>\n"
            ],
            "application/vnd.google.colaboratory.intrinsic+json": {
              "type": "dataframe",
              "variable_name": "df",
              "summary": "{\n  \"name\": \"df\",\n  \"rows\": 30,\n  \"fields\": [\n    {\n      \"column\": \"Hours_of_Study\",\n      \"properties\": {\n        \"dtype\": \"number\",\n        \"std\": 2,\n        \"min\": 0,\n        \"max\": 8,\n        \"num_unique_values\": 9,\n        \"samples\": [\n          6,\n          7,\n          4\n        ],\n        \"semantic_type\": \"\",\n        \"description\": \"\"\n      }\n    },\n    {\n      \"column\": \"Score\",\n      \"properties\": {\n        \"dtype\": \"number\",\n        \"std\": 27.15642138494657,\n        \"min\": 2.122104,\n        \"max\": 82.1221,\n        \"num_unique_values\": 9,\n        \"samples\": [\n          62.1221,\n          72.1221,\n          42.1221\n        ],\n        \"semantic_type\": \"\",\n        \"description\": \"\"\n      }\n    }\n  ]\n}"
            }
          },
          "metadata": {},
          "execution_count": 23
        }
      ]
    },
    {
      "cell_type": "code",
      "source": [
        "# Define the dependent and independent variables\n",
        "X = df['Hours_of_Study']\n",
        "y = df['Score']\n",
        "\n",
        "# Adding constant term\n",
        "X = sm.add_constant(X)\n",
        "\n",
        "# Fitting the model\n",
        "model = sm.OLS(y, X).fit()\n",
        "\n",
        "# Print the model summary\n",
        "print(model.summary())"
      ],
      "metadata": {
        "colab": {
          "base_uri": "https://localhost:8080/"
        },
        "id": "aOEEdEPfjrfn",
        "outputId": "0949e531-09f8-4b62-f449-61f14aead398"
      },
      "execution_count": 18,
      "outputs": [
        {
          "output_type": "stream",
          "name": "stdout",
          "text": [
            "                            OLS Regression Results                            \n",
            "==============================================================================\n",
            "Dep. Variable:                  Score   R-squared:                       1.000\n",
            "Model:                            OLS   Adj. R-squared:                  1.000\n",
            "Method:                 Least Squares   F-statistic:                 2.311e+16\n",
            "Date:                Wed, 19 Mar 2025   Prob (F-statistic):          2.20e-210\n",
            "Time:                        18:26:32   Log-Likelihood:                 374.09\n",
            "No. Observations:                  30   AIC:                            -744.2\n",
            "Df Residuals:                      28   BIC:                            -741.4\n",
            "Df Model:                           1                                         \n",
            "Covariance Type:            nonrobust                                         \n",
            "==================================================================================\n",
            "                     coef    std err          t      P>|t|      [0.025      0.975]\n",
            "----------------------------------------------------------------------------------\n",
            "const              2.1221   3.77e-07   5.63e+06      0.000       2.122       2.122\n",
            "Hours_of_Study    10.0000   6.58e-08   1.52e+08      0.000      10.000      10.000\n",
            "==============================================================================\n",
            "Omnibus:                        5.046   Durbin-Watson:                   1.965\n",
            "Prob(Omnibus):                  0.080   Jarque-Bera (JB):                3.450\n",
            "Skew:                           0.771   Prob(JB):                        0.178\n",
            "Kurtosis:                       3.619   Cond. No.                         12.6\n",
            "==============================================================================\n",
            "\n",
            "Notes:\n",
            "[1] Standard Errors assume that the covariance matrix of the errors is correctly specified.\n"
          ]
        }
      ]
    },
    {
      "cell_type": "code",
      "source": [
        "# Extract coefficients\n",
        "b0 = model.params[0]\n",
        "b1 = model.params[1]\n",
        "\n",
        "print(f\"The regression equation is: Score = {b0:.4f} + {b1:.2f} * Hours_of_Study\")"
      ],
      "metadata": {
        "colab": {
          "base_uri": "https://localhost:8080/"
        },
        "id": "7RHWEWfHlmdx",
        "outputId": "b75a3c35-5c59-4ebd-eed6-53a6cf860c47"
      },
      "execution_count": 15,
      "outputs": [
        {
          "output_type": "stream",
          "name": "stdout",
          "text": [
            "The regression equation is: Score = 2.1221 + 10.00 * Hours_of_Study\n"
          ]
        },
        {
          "output_type": "stream",
          "name": "stderr",
          "text": [
            "<ipython-input-15-54e1115e27a6>:2: FutureWarning: Series.__getitem__ treating keys as positions is deprecated. In a future version, integer keys will always be treated as labels (consistent with DataFrame behavior). To access a value by position, use `ser.iloc[pos]`\n",
            "  b0 = model.params[0]\n",
            "<ipython-input-15-54e1115e27a6>:3: FutureWarning: Series.__getitem__ treating keys as positions is deprecated. In a future version, integer keys will always be treated as labels (consistent with DataFrame behavior). To access a value by position, use `ser.iloc[pos]`\n",
            "  b1 = model.params[1]\n"
          ]
        }
      ]
    },
    {
      "cell_type": "markdown",
      "source": [
        "This means that for every additional hour of study, the expected exam score increases by approximately 10 points."
      ],
      "metadata": {
        "id": "l9t2PXELnpI0"
      }
    },
    {
      "cell_type": "markdown",
      "source": [
        "**b.\tAssumptions of simple linear regression**\n",
        "\n",
        "*   Linearity - The relationship between the independent and dependent variable should be linear.\n",
        "*   Independence - The residuals (errors) should be independent.\n",
        "\n",
        "*   Homoscedasticity - The variance of the residuals should be constant across all levels of the independent variable.\n",
        "*   Normality - The residuals should be normally distributed\n",
        "\n",
        "\n",
        "\n"
      ],
      "metadata": {
        "id": "wWDTj5BpoAd1"
      }
    },
    {
      "cell_type": "code",
      "source": [
        "# Checking for linearity by plotting scatterplot\n",
        "plt.scatter(df['Hours_of_Study'], df['Score'], label='Data points')\n",
        "plt.plot(df['Hours_of_Study'], model.predict(X), color='red', label='Regression line')\n",
        "plt.xlabel('Hours of Study')\n",
        "plt.ylabel('Score')\n",
        "plt.title('Simple Linear Regression')\n",
        "plt.legend()\n",
        "plt.show()"
      ],
      "metadata": {
        "colab": {
          "base_uri": "https://localhost:8080/",
          "height": 472
        },
        "id": "4_pZyIChmslS",
        "outputId": "64a7c1a6-32e9-4f5c-879c-4157c3c1a07c"
      },
      "execution_count": 24,
      "outputs": [
        {
          "output_type": "display_data",
          "data": {
            "text/plain": [
              "<Figure size 640x480 with 1 Axes>"
            ],
            "image/png": "[encoded data removed]"
          },
          "metadata": {}
        }
      ]
    },
    {
      "cell_type": "markdown",
      "source": [
        "The scatter plot proves linearity of dataset."
      ],
      "metadata": {
        "id": "KWGTMml-pNaH"
      }
    },
    {
      "cell_type": "code",
      "source": [
        "# Checking for Homoscedasticity by plotting a scatter plot of residuals vs. fitted values\n",
        "# Predict values\n",
        "y_pred = model.predict(X)\n",
        "\n",
        "# Calculate residuals\n",
        "residuals = y - y_pred\n",
        "\n",
        "# Plot residuals\n",
        "plt.figure(figsize=(8, 5))\n",
        "sns.scatterplot(x=y_pred, y=residuals, color='orange', edgecolor='w')\n",
        "plt.axhline(y=0, color='red', linestyle='--')\n",
        "plt.title('Residuals vs Fitted Values')\n",
        "plt.xlabel('Fitted Values')\n",
        "plt.ylabel('Residuals')\n",
        "plt.show()"
      ],
      "metadata": {
        "colab": {
          "base_uri": "https://localhost:8080/",
          "height": 487
        },
        "id": "PPTY4m-jpaj_",
        "outputId": "9697893f-4810-435f-81ce-d8c572de958a"
      },
      "execution_count": 25,
      "outputs": [
        {
          "output_type": "display_data",
          "data": {
            "text/plain": [
              "<Figure size 800x500 with 1 Axes>"
            ],
            "image/png": "[encoded data removed]"
          },
          "metadata": {}
        }
      ]
    },
    {
      "cell_type": "markdown",
      "source": [
        "The residual plot shows that residuals are close to zero and evenly spread, proving homoscedasticity."
      ],
      "metadata": {
        "id": "zrTBtnuTqONP"
      }
    },
    {
      "cell_type": "code",
      "source": [
        "# Checking for Normality by plotting Q-Q plot of residuals\n",
        "# Q-Q plot\n",
        "plt.figure(figsize=(8, 5))\n",
        "stats.probplot(residuals, dist=\"norm\", plot=plt)\n",
        "plt.title('Q-Q Plot of Residuals')\n",
        "plt.show()"
      ],
      "metadata": {
        "colab": {
          "base_uri": "https://localhost:8080/",
          "height": 487
        },
        "id": "foNSnC2uqxx0",
        "outputId": "b4b52513-8699-4ace-ac41-c64f5406e9da"
      },
      "execution_count": 22,
      "outputs": [
        {
          "output_type": "display_data",
          "data": {
            "text/plain": [
              "<Figure size 800x500 with 1 Axes>"
            ],
            "image/png": "[encoded data removed]"
          },
          "metadata": {}
        }
      ]
    },
    {
      "cell_type": "markdown",
      "source": [
        "The residuals are normally distributed"
      ],
      "metadata": {
        "id": "vCBQqQBBrhh8"
      }
    },
    {
      "cell_type": "markdown",
      "source": [
        "**c.\tHow outliers affect the regression model**\n",
        "\n",
        "Outliers can skew the slope and intercept.\n",
        "\n",
        "*   Outliers can skew the slope and intercept.\n",
        "*   They can increase the variance of residuals, reducing the model's predictive accuracy.\n",
        "\n",
        "*   Outliers may also cause the model to violate the assumption of normality and homoscedasticity.\n",
        "\n",
        "\n",
        "\n",
        "\n"
      ],
      "metadata": {
        "id": "KYwbq22Nrpjk"
      }
    },
    {
      "cell_type": "markdown",
      "source": [
        "**d. How to verify the Model**\n",
        "\n",
        "\n",
        "\n",
        "*   R square value: From the regression result, we got R square =1, so it means good fit.\n",
        "*   t - test: We can perform t - test for significance of slope\n",
        "\n",
        "*   Residual Analysis: From above scatter plot and Q-Q plot we can verify the model is good fit.\n",
        "\n",
        "\n",
        "\n",
        "\n"
      ],
      "metadata": {
        "id": "COH1ajEvsVSM"
      }
    },
    {
      "cell_type": "markdown",
      "source": [
        "**e. Model Verification**\n",
        "\n",
        "\n",
        " From the Regression results, we got R square =1, that means the model explains nearly 100% of the variance in exam scores, indicating an excellent fit.\n",
        "\n",
        "\n"
      ],
      "metadata": {
        "id": "9Wx_XyuvwaW7"
      }
    },
    {
      "cell_type": "markdown",
      "source": [
        "##Question 4\n",
        "\n",
        "A manufacturing company produces three products: Product A, Product B, and Product C. Each product requires different amounts of two types of machines, Machine X and Machine Y. Machine X is available for 100 hours per week, and Machine Y is available for 85 hours per week. The company wants to maximize its total production output.\n",
        "\n",
        "a.\tPlease formulate this problem as a linear programming problem in standard form. Please clearly define your variable before you write the math formulation.\n",
        "\n",
        "b.\tSolve the problem in Excel or Python.\n",
        "\n",
        "c.\tIs the problem bounded by machine X or Y? If you have a budget to upgrade the machine, will you upgrade machine X or Y? Please explain your answer by exploring the math model.\n"
      ],
      "metadata": {
        "id": "Irwow80pxXjh"
      }
    },
    {
      "cell_type": "markdown",
      "source": [
        "**a. Formulate the Linear Programming Problem**\n",
        "\n",
        "Let x be the number of units of Product A to produce.\n",
        "\n",
        "Let y be the number of units of Product B to produce.\n",
        "\n",
        "Let z be the number of units of Product C to produce.\n",
        "\n",
        "Our objective is to maximize the production output.\n",
        "\n",
        "Objective function: Z = x + y + z\n",
        "\n",
        "So, we can formulate the following linear equations:\n",
        "\n",
        "\n",
        "*   Machine X: 2x + y + 3z <= 100\n",
        "*   Machine Y: 4x + 3y + 2z <= 85\n",
        "\n",
        "where x >= 0, y >= 0 and  z >= 0\n",
        "\n",
        "\n"
      ],
      "metadata": {
        "id": "LNEQESIixx49"
      }
    },
    {
      "cell_type": "markdown",
      "source": [
        "**b. Solving the Problem in Python**\n",
        "\n",
        "We use the scipy.optimize.linprog function to solve this problem."
      ],
      "metadata": {
        "id": "zZg-YPmr3akb"
      }
    },
    {
      "cell_type": "code",
      "source": [
        "from scipy.optimize import linprog\n",
        "\n",
        "# Coefficients of the objective function\n",
        "obj = [-1, -1, -1]\n",
        "\n",
        "# From the linear equations, we take coeffients of left hand side as A and coefficients of right hand side as B\n",
        "\n",
        "A = [[2, 1, 3],  # Machine X constraint\n",
        "     [4, 3, 2]]  # Machine Y constraint\n",
        "\n",
        "\n",
        "b = [100, 85]\n",
        "\n",
        "# Bounds for the variables\n",
        "x_bounds = (0, None)\n",
        "y_bounds = (0, None)\n",
        "z_bounds = (0, None)\n",
        "\n",
        "# Solving the linear programming problem using linprog\n",
        "result = linprog(obj, A_ub=A, b_ub=b, bounds=[x_bounds, y_bounds, z_bounds], method='highs')\n",
        "\n",
        "# Extract and print the results\n",
        "print(\"Product A (x):\", round(result.x[0], 2))\n",
        "print(\"Product B (y):\", round(result.x[1], 2))\n",
        "print(\"Product C (z):\", round(result.x[2], 2))\n",
        "print(\"Maximum total production:\", round(-result.fun, 2))  # Negate the minimized value to get the maximum"
      ],
      "metadata": {
        "colab": {
          "base_uri": "https://localhost:8080/"
        },
        "id": "1GRurWU03krB",
        "outputId": "a5e3989b-9f41-4956-db56-792bdda3cb14"
      },
      "execution_count": 28,
      "outputs": [
        {
          "output_type": "stream",
          "name": "stdout",
          "text": [
            "Optimal solution:\n",
            "Product A (x): 0.0\n",
            "Product B (y): 7.86\n",
            "Product C (z): 30.71\n",
            "Maximum total production: 38.57\n"
          ]
        }
      ]
    },
    {
      "cell_type": "markdown",
      "source": [
        "**c. Bounded by machine X or Y**\n",
        "\n",
        "We can examine the binding constraints at the optimal solution to identify the machine that is the bottleneck.\n",
        "\n",
        "Let's substitute the optimal values of x, y, and z into the constraints:\n",
        "\n",
        "\n",
        "\n",
        "*   Machine X: 2(0) + 7.86 + 3(30.71) = 99.99 <=100\n",
        "*   Machine Y: 4(0) + 3(7.86) + 2(30.71)= 85.00 <= 85\n",
        "\n",
        "Both constraints are binding, meaning both Machine X and Machine Y are limiting the production.\n",
        "\n",
        "**Upgrade Decision:** Since both machines are bottlenecks, upgrading either one would increase production. However, to determine which one to upgrade first, we need to consider the shadow prices or dual values"
      ],
      "metadata": {
        "id": "exnESh6T8ExR"
      }
    },
    {
      "cell_type": "code",
      "source": [
        "print(\"Shadow prices (dual values):\", result.ineqlin.marginals)"
      ],
      "metadata": {
        "colab": {
          "base_uri": "https://localhost:8080/"
        },
        "id": "xpW9DAwR-v0T",
        "outputId": "0559f0bb-3e15-434a-8812-99d09c510e94"
      },
      "execution_count": 30,
      "outputs": [
        {
          "output_type": "stream",
          "name": "stdout",
          "text": [
            "Shadow prices (dual values): [-0.14285714 -0.28571429]\n"
          ]
        }
      ]
    },
    {
      "cell_type": "markdown",
      "source": [
        "The Shodow price of Machine Y is higher. This means that for every additional hour of availability added to Machine Y, the total production output will increase by approximately 0.28571429 units.\n",
        "\n",
        "Because Machine Y has the higher shadow price, it is the most efficient machine to upgrade."
      ],
      "metadata": {
        "id": "Zq4pocRt_Es7"
      }
    },
    {
      "cell_type": "markdown",
      "source": [
        "**References**: I used Chatgpt and Gemini to assist me in python coding"
      ],
      "metadata": {
        "id": "kC7bfuAR_9GH"
      }
    }
  ]
}
